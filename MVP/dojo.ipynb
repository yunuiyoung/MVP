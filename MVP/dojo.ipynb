{
 "cells": [
  {
   "cell_type": "code",
   "execution_count": 1,
   "id": "e4428eeb",
   "metadata": {},
   "outputs": [],
   "source": [
    "from azure.search.documents import SearchClient\n",
    "from azure.search.documents.models import VectorizedQuery, VectorizableTextQuery\n",
    "from azure.core.credentials import AzureKeyCredential\n",
    "from openai import AzureOpenAI\n",
    "import json\n",
    "import os\n",
    "import pandas as pd # pandas 추가\n",
    "from dotenv import load_dotenv\n",
    "\n",
    "load_dotenv()\n",
    "\n",
    "# --- 환경 변수 설정 (2단계에서 설정한 값과 동일하게) ---\n",
    "# 이 부분은 실제 값을 채워 넣거나, 환경 변수로 설정해야 합니다.\n",
    "service_name = os.getenv(\"AZURE_SEARCH_SERVICE_NAME\")\n",
    "index_name = os.getenv(\"AZURE_SEARCH_INDEX_NAME\")\n",
    "endpoint = os.getenv(\"AZURE_SEARCH_ENDPOINT\")\n",
    "key = os.getenv(\"AZURE_SEARCH_ADMIN_KEY\") # 실제 키로 변경 필요\n",
    "\n",
    "azure_openai_endpoint = os.getenv(\"AZURE_OPENAI_ENDPOINT\") # 실제 엔드포인트로 변경 필요\n",
    "azure_openai_key = os.getenv(\"AZURE_OPENAI_API_KEY\") # 실제 키로 변경 필요\n",
    "embedding_model_name = os.getenv(\"AZURE_OPENAI_EMBEDDING_DEPLOYMENT_NAME\")\n",
    "llm_model_name = os.getenv(\"AZURE_OPENAI_CHAT_DEPLOYMENT_NAME\") # 배포된 LLM 모델 이름 (예: gpt-4, gpt-35-turbo)\n",
    "\n",
    "# 환경 변수가 설정되지 않았다면 사용자에게 안내\n",
    "if \"YOUR_\" in key or \"YOUR_\" in azure_openai_endpoint or \"YOUR_\" in azure_openai_key:\n",
    "    print(\"🚨 경고: Azure 서비스 키 또는 엔드포인트가 설정되지 않았습니다.\")\n",
    "    print(\"   위 코드의 'YOUR_...' 부분을 실제 값으로 변경하거나, 환경 변수를 설정해주세요.\")\n",
    "    # exit() # 실제 운영 시에는 종료하거나 다른 방식으로 처리\n",
    "\n",
    "# Azure OpenAI 클라이언트 초기화\n",
    "openai_client = AzureOpenAI(\n",
    "    azure_endpoint=azure_openai_endpoint,\n",
    "    api_key=azure_openai_key,\n",
    "    api_version=\"2024-12-01-preview\"\n",
    ")\n",
    "\n",
    "# 임베딩 생성 함수\n",
    "def generate_embeddings(text):\n",
    "    try:\n",
    "        response = openai_client.embeddings.create(\n",
    "            input=text,\n",
    "            model=embedding_model_name\n",
    "        )\n",
    "        return response.data[0].embedding\n",
    "    except Exception as e:\n",
    "        print(f\"❌ 임베딩 생성 중 오류 발생: {e}\")\n",
    "        print(\"   Azure OpenAI 엔드포인트, 키, 모델 배포 이름이 올바른지 확인해주세요.\")\n",
    "        return None\n",
    "    \n",
    "# Azure AI Search 클라이언트 초기화\n",
    "search_client = SearchClient(endpoint=endpoint, index_name=index_name, credential=AzureKeyCredential(key))"
   ]
  },
  {
   "cell_type": "code",
   "execution_count": null,
   "id": "556ef73d",
   "metadata": {},
   "outputs": [],
   "source": [
    "new_project_description=\"디즈니 프로젝트\"\n",
    "\n",
    "new_description_vector = generate_embeddings(new_project_description)\n",
    "\n",
    "# 2. Azure AI Search에서 유사 프로젝트 검색 (RAG)\n",
    "vector_query = VectorizableTextQuery(#VectorizedQuery(\n",
    "    text=new_project_description,\n",
    "    k_nearest_neighbors=3, # 최상위 3개 프로젝트 탐색\n",
    "    fields=\"text_vector\"\n",
    ")\n",
    "\n",
    "results = search_client.search(\n",
    "    search_text=new_project_description, # 벡터 검색만 수행하므로 텍스트 검색은 비활성화\n",
    "    vector_queries=[vector_query],\n",
    "    # select=[\"project_name\", \"description\", \"dev_parts_effort\"],\n",
    "    top=3 # 상위 3개 결과만 가져오기\n",
    ")"
   ]
  },
  {
   "cell_type": "code",
   "execution_count": 9,
   "id": "29caa7a6",
   "metadata": {},
   "outputs": [],
   "source": [
    "docs = [r for r in results]"
   ]
  },
  {
   "cell_type": "code",
   "execution_count": 6,
   "id": "954b263f",
   "metadata": {},
   "outputs": [
    {
     "data": {
      "text/plain": [
       "dict_keys(['KOS_Con_MM', 'text_vector', 'MEIN_MM', 'ProjectName', 'APP_MM', 'parent_id', 'chunk_id', 'chunk', 'ProjectID', 'APILink_MM', 'KOS_Order_MM', 'title', 'Bill_MM', '@search.score', '@search.reranker_score', '@search.highlights', '@search.captions'])"
      ]
     },
     "execution_count": 6,
     "metadata": {},
     "output_type": "execute_result"
    }
   ],
   "source": [
    "docs[0].keys()"
   ]
  },
  {
   "cell_type": "code",
   "execution_count": 10,
   "id": "ab7e59d9",
   "metadata": {},
   "outputs": [
    {
     "data": {
      "text/plain": [
       "dict_keys(['KOS_Con_MM', 'text_vector', 'MEIN_MM', 'ProjectName', 'APP_MM', 'parent_id', 'chunk_id', 'chunk', 'ProjectID', 'APILink_MM', 'KOS_Order_MM', 'title', 'Bill_MM', '@search.score', '@search.reranker_score', '@search.highlights', '@search.captions'])"
      ]
     },
     "execution_count": 10,
     "metadata": {},
     "output_type": "execute_result"
    }
   ],
   "source": [
    "docs[0].keys()"
   ]
  },
  {
   "cell_type": "code",
   "execution_count": 3,
   "id": "e28b43b1",
   "metadata": {},
   "outputs": [],
   "source": [
    "import os\n",
    "from openai import AzureOpenAI\n",
    "from dotenv import load_dotenv\n",
    "\n",
    "load_dotenv()\n",
    "\n",
    "azure_openai_endpoint = os.getenv(\"AZURE_OPENAI_ENDPOINT\") # 실제 엔드포인트로 변경 필요\n",
    "azure_openai_key = os.getenv(\"AZURE_OPENAI_API_KEY\") # 실제 키로 변경 필요\n",
    "\n",
    "# Azure OpenAI 클라이언트 초기화\n",
    "openai_client = AzureOpenAI(\n",
    "    azure_endpoint=azure_openai_endpoint,\n",
    "    api_key=azure_openai_key,\n",
    "   api_version=\"2024-12-01-preview\",\n",
    ")\n"
   ]
  },
  {
   "cell_type": "code",
   "execution_count": 4,
   "id": "8b96238a",
   "metadata": {},
   "outputs": [
    {
     "name": "stdout",
     "output_type": "stream",
     "text": [
      "That’s wonderful—Paris is a city full of iconic sights, beautiful neighborhoods, art, and amazing food! Here are some must-see highlights and ideas for what to do:\n",
      "\n",
      "**Essential Sights:**\n",
      "1. **Eiffel Tower** – Go up for a spectacular view or enjoy a picnic on the Champ de Mars.\n",
      "2. **Louvre Museum** – Home to the Mona Lisa and countless masterpieces. Tip: It's vast, so plan your visit or focus on particular sections!\n",
      "3. **Notre-Dame Cathedral** – Despite the 2019 fire, you can view the exterior and explore Île de la Cité.\n",
      "4. **Sainte-Chapelle** – Famous for its breathtaking stained glass windows.\n",
      "5. **Sacré-Cœur Basilica** – Located atop Montmartre hill for beautiful city views.\n",
      "\n",
      "**Beautiful Walks and Neighborhoods:**\n",
      "- **Le Marais** – Trendy streets, boutiques, and cool cafés.\n",
      "- **Montmartre** – Bohemian charm, artists, and quaint streets. Don’t miss Place du Tertre.\n",
      "- **Latin Quarter** – Historic streets, bistros, and the beautiful Luxembourg Gardens.\n",
      "- **Seine River** – Walk along the banks or take a boat cruise, especially stunning at night.\n",
      "\n",
      "**Museums and Art:**\n",
      "- Orsay Museum (Impressionist and Post-Impressionist art)\n",
      "- Pompidou Centre (modern art)\n",
      "- Rodin Museum (sculpture and gardens)\n",
      "\n",
      "**Hidden Gems and Experiences:**\n",
      "- **Père Lachaise Cemetery** – Intriguing graves, including Jim Morrison and Oscar Wilde.\n",
      "- **Covered Passages (Passages Couverts)** – 19th-century shopping arcades full of charm.\n",
      "- **Rue Mouffetard Market Street** – For local food and Parisian vibe.\n",
      "- **A picnic in Luxembourg Gardens or along the Canal Saint-Martin.**\n",
      "\n",
      "**Day Trips (if you have more time):**\n",
      "- **Versailles Palace** – Extravagant palace and gardens.\n",
      "- **Giverny** – Claude Monet’s house and gardens.\n",
      "\n",
      "**Food and Drink:**\n",
      "- Try classic pastries (croissants, macarons), street-side crêpes, and French wine.\n",
      "- Enjoy cafés—people-watching is a Parisian pastime!\n",
      "\n",
      "Would you like recommendations based on a specific interest (art, fashion, food, history), or advice for a certain length of visit?\n"
     ]
    }
   ],
   "source": [
    "response = openai_client.chat.completions.create(\n",
    "    messages=[\n",
    "        {\n",
    "            \"role\": \"system\",\n",
    "            \"content\": \"You are a helpful assistant.\",\n",
    "        },\n",
    "        {\n",
    "            \"role\": \"user\",\n",
    "            \"content\": \"I am going to Paris, what should I see?\",\n",
    "        }\n",
    "    ],\n",
    "    max_completion_tokens=800,\n",
    "    temperature=1.0,\n",
    "    top_p=1.0,\n",
    "    frequency_penalty=0.0,\n",
    "    presence_penalty=0.0,\n",
    "    model=\"gpt-4.1\"\n",
    "\n",
    ")\n",
    "\n",
    "print(response.choices[0].message.content)"
   ]
  },
  {
   "cell_type": "code",
   "execution_count": null,
   "id": "6dd571a0",
   "metadata": {},
   "outputs": [],
   "source": []
  },
  {
   "cell_type": "code",
   "execution_count": null,
   "id": "42f283d2",
   "metadata": {},
   "outputs": [],
   "source": []
  }
 ],
 "metadata": {
  "kernelspec": {
   "display_name": "Python 3",
   "language": "python",
   "name": "python3"
  },
  "language_info": {
   "codemirror_mode": {
    "name": "ipython",
    "version": 3
   },
   "file_extension": ".py",
   "mimetype": "text/x-python",
   "name": "python",
   "nbconvert_exporter": "python",
   "pygments_lexer": "ipython3",
   "version": "3.11.0"
  }
 },
 "nbformat": 4,
 "nbformat_minor": 5
}
